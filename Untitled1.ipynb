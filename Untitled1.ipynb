{
 "cells": [
  {
   "cell_type": "raw",
   "metadata": {},
   "source": [
    "Download essential packages"
   ]
  },
  {
   "cell_type": "code",
   "execution_count": null,
   "metadata": {},
   "outputs": [],
   "source": [
    "Pkg.update()\n",
    "using Pkg\n",
    "Pkg.add(\"JuMP\")\n",
    "Pkg.add(\"ExcelFiles\")\n"
   ]
  },
  {
   "cell_type": "code",
   "execution_count": null,
   "metadata": {},
   "outputs": [],
   "source": [
    "import Pkg; \n",
    "Pkg.add(\"Pkg\")\n",
    "Pkg.add(\"CodecBzip2\")\n",
    "Pkg.build(\"CodecBzip2\")"
   ]
  },
  {
   "cell_type": "code",
   "execution_count": null,
   "metadata": {},
   "outputs": [],
   "source": [
    "\n",
    "Pkg.add(\"PyPlot\")\n",
    "Pkg.add(\"DataFrames\")\n",
    "using JuMP, ExcelFiles, PyPlot, DataFrames, LaTeXStrings\n",
    "Pkg.add(\"MathOptFormat\")\n",
    "using MathOptFormat\n"
   ]
  },
  {
   "cell_type": "code",
   "execution_count": 1,
   "metadata": {},
   "outputs": [
    {
     "name": "stderr",
     "output_type": "stream",
     "text": [
      "\u001b[32m\u001b[1m   Updating\u001b[22m\u001b[39m registry at `~/.julia/registries/General`\n",
      "\u001b[32m\u001b[1m   Updating\u001b[22m\u001b[39m registry at `~/.julia/registries/JuliaComputingRegistry`\n",
      "\u001b[32m\u001b[1m  Resolving\u001b[22m\u001b[39m package versions...\n",
      "\u001b[32m\u001b[1mNo Changes\u001b[22m\u001b[39m to `~/.julia/environments/JuliaPro_v1.5.0-1/Project.toml`\n",
      "\u001b[32m\u001b[1mNo Changes\u001b[22m\u001b[39m to `~/.julia/environments/JuliaPro_v1.5.0-1/Manifest.toml`\n"
     ]
    }
   ],
   "source": [
    "Pkg.add(\"Gurobi\")"
   ]
  },
  {
   "cell_type": "code",
   "execution_count": 4,
   "metadata": {},
   "outputs": [
    {
     "name": "stderr",
     "output_type": "stream",
     "text": [
      "┌ Info: Precompiling Gurobi [2e9cd046-0924-5485-92f1-d5272153d98b]\n",
      "└ @ Base loading.jl:1278\n",
      "ERROR: LoadError:     Gurobi not properly installed. Please run Pkg.build(\"Gurobi\"). For\n",
      "    more information go to https://github.com/JuliaOpt/Gurobi.jl\n",
      "\n",
      "Stacktrace:\n",
      " [1] error(::String) at ./error.jl:33\n",
      " [2] top-level scope at /Users/devendrashelar/.julia/packages/Gurobi/lQ4nu/src/Gurobi.jl:7\n",
      " [3] include(::Function, ::Module, ::String) at ./Base.jl:380\n",
      " [4] include(::Module, ::String) at ./Base.jl:368\n",
      " [5] top-level scope at none:2\n",
      " [6] eval at ./boot.jl:331 [inlined]\n",
      " [7] eval(::Expr) at ./client.jl:467\n",
      " [8] top-level scope at ./none:3\n",
      "in expression starting at /Users/devendrashelar/.julia/packages/Gurobi/lQ4nu/src/Gurobi.jl:4\n"
     ]
    },
    {
     "ename": "LoadError",
     "evalue": "Failed to precompile Gurobi [2e9cd046-0924-5485-92f1-d5272153d98b] to /Users/devendrashelar/.julia/compiled/v1.5/Gurobi/do9v6_USwbD.ji.",
     "output_type": "error",
     "traceback": [
      "Failed to precompile Gurobi [2e9cd046-0924-5485-92f1-d5272153d98b] to /Users/devendrashelar/.julia/compiled/v1.5/Gurobi/do9v6_USwbD.ji.",
      "",
      "Stacktrace:",
      " [1] error(::String) at ./error.jl:33",
      " [2] compilecache(::Base.PkgId, ::String) at ./loading.jl:1290",
      " [3] _require(::Base.PkgId) at ./loading.jl:1030",
      " [4] require(::Base.PkgId) at ./loading.jl:928",
      " [5] require(::Module, ::Symbol) at ./loading.jl:923",
      " [6] include_string(::Function, ::Module, ::String, ::String) at ./loading.jl:1091"
     ]
    }
   ],
   "source": [
    "ENV[\"GUROBI_HOME\"] = \"/Library/gurobi903/mac64\"\n",
    "using Gurobi"
   ]
  },
  {
   "cell_type": "code",
   "execution_count": null,
   "metadata": {},
   "outputs": [],
   "source": []
  }
 ],
 "metadata": {
  "kernelspec": {
   "display_name": "Julia 1.5.0",
   "language": "julia",
   "name": "julia-1.5"
  },
  "language_info": {
   "file_extension": ".jl",
   "mimetype": "application/julia",
   "name": "julia",
   "version": "1.5.0"
  }
 },
 "nbformat": 4,
 "nbformat_minor": 4
}
